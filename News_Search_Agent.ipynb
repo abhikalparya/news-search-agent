{
  "nbformat": 4,
  "nbformat_minor": 0,
  "metadata": {
    "colab": {
      "provenance": []
    },
    "kernelspec": {
      "name": "python3",
      "display_name": "Python 3"
    },
    "language_info": {
      "name": "python"
    }
  },
  "cells": [
    {
      "cell_type": "code",
      "source": [
        "%pip install --quiet openai==0.28 langchain google-api-python-client newspaper3k langchain_community"
      ],
      "metadata": {
        "colab": {
          "base_uri": "https://localhost:8080/"
        },
        "id": "CWjqdf5I4xL0",
        "outputId": "b76e1cfd-a9ca-48f8-ef1c-1b5edbb44169"
      },
      "execution_count": null,
      "outputs": [
        {
          "output_type": "stream",
          "name": "stdout",
          "text": [
            "\u001b[?25l     \u001b[90m━━━━━━━━━━━━━━━━━━━━━━━━━━━━━━━━━━━━━━━━\u001b[0m \u001b[32m0.0/76.5 kB\u001b[0m \u001b[31m?\u001b[0m eta \u001b[36m-:--:--\u001b[0m\r\u001b[2K     \u001b[90m━━━━━━━━━━━━━━━━━━━━━━━━━━━━━━━━━━━━━━━━\u001b[0m \u001b[32m76.5/76.5 kB\u001b[0m \u001b[31m2.0 MB/s\u001b[0m eta \u001b[36m0:00:00\u001b[0m\n",
            "\u001b[?25h"
          ]
        }
      ]
    },
    {
      "cell_type": "code",
      "source": [
        "# Set up environment variables\n",
        "import os\n",
        "from openai import OpenAI\n",
        "\n",
        "from langchain_community.utilities import GoogleSearchAPIWrapper\n",
        "from langchain_core.tools import Tool\n",
        "from newspaper import Article, Config, ArticleException\n",
        "\n",
        "os.environ[\"GOOGLE_CSE_ID\"] = \"YOUR_CSE_ID\"\n",
        "os.environ[\"GOOGLE_API_KEY\"] = \"YOUR_API_KEY\"\n",
        "os.environ[\"OPENAI_API_KEY\"] = \"YOUR_OPENAI_API_KEY\"\n",
        "\n",
        "client = OpenAI(\n",
        "    api_key=os.environ.get(\"OPENAI_API_KEY\"),\n",
        ")"
      ],
      "metadata": {
        "id": "LTb8TBzcOp-1"
      },
      "execution_count": null,
      "outputs": []
    },
    {
      "cell_type": "code",
      "source": [
        "# Function to fetch top news results\n",
        "def top_news_results(query):\n",
        "    search_results = search.results(f\"{query} latest news 'this week'\", 5)\n",
        "    articles = []\n",
        "    for result in search_results:\n",
        "        article_content = fetch_and_parse_article(result['link'])\n",
        "        if article_content:\n",
        "            articles.append(article_content)\n",
        "    return articles\n",
        "\n",
        "\n",
        "# Set up Google Search tool\n",
        "search = GoogleSearchAPIWrapper()\n",
        "tool = Tool(\n",
        "    name=\"google_search\",\n",
        "    description=\"Search Google for recent results.\",\n",
        "    func=top_news_results,\n",
        ")"
      ],
      "metadata": {
        "id": "qFkPyKeQ5cjv"
      },
      "execution_count": null,
      "outputs": []
    },
    {
      "cell_type": "code",
      "source": [
        "# Function to search for news articles using LangChain's Google Search tool\n",
        "def search_news_with_langchain(query):\n",
        "    search_results = tool.func(query)\n",
        "    return search_results\n",
        "\n",
        "# Function to fetch and parse news articles\n",
        "def fetch_and_parse_article(url):\n",
        "    try:\n",
        "        config = Config()\n",
        "        config.browser_user_agent = (\n",
        "            'Mozilla/5.0 (Windows NT 10.0; Win64; x64) AppleWebKit/537.36 '\n",
        "            '(KHTML, like Gecko) Chrome/91.0.4472.124 Safari/537.36'\n",
        "        )\n",
        "\n",
        "        article = Article(url, config=config)\n",
        "        article.download()\n",
        "        article.parse()\n",
        "\n",
        "        if article.text and len(article.text) > 100:\n",
        "            return {\n",
        "                \"title\": article.title,\n",
        "                \"link\": article.url,\n",
        "            }\n",
        "        else:\n",
        "            return None\n",
        "    except ArticleException as e:\n",
        "        print(f\"Failed to fetch article from {url}: {e}\")\n",
        "        return None\n"
      ],
      "metadata": {
        "id": "xkvQ1GT2L94g"
      },
      "execution_count": null,
      "outputs": []
    },
    {
      "cell_type": "code",
      "source": [
        "# Function to get news articles based on a user query\n",
        "def get_news_articles(query):\n",
        "    search_results = search_news_with_langchain(query)\n",
        "\n",
        "    articles = []\n",
        "    for result in search_results:\n",
        "        if 'link' in result:\n",
        "            article_content = fetch_and_parse_article(result['link'])\n",
        "            if article_content:\n",
        "                articles.append(article_content)\n",
        "\n",
        "    return articles"
      ],
      "metadata": {
        "id": "KbWgOFAq5nKl"
      },
      "execution_count": null,
      "outputs": []
    },
    {
      "cell_type": "code",
      "source": [
        "# Example usage\n",
        "query = \"pune porshe accident\"\n",
        "results = get_news_articles(query)\n",
        "\n",
        "if results:\n",
        "    for idx, article in enumerate(results, start=1):\n",
        "        print(f\"{idx}. Title: {article['title']}\\n   Link: {article['link']}\\n\")\n",
        "else:\n",
        "    print(\"No news articles found.\")"
      ],
      "metadata": {
        "colab": {
          "base_uri": "https://localhost:8080/"
        },
        "id": "3n6wMGuSK739",
        "outputId": "7d41cbce-bc65-4007-dc45-ab4f7fb097f0"
      },
      "execution_count": null,
      "outputs": [
        {
          "output_type": "stream",
          "name": "stdout",
          "text": [
            "1. Title: Pune Porsche accident: Grandfather of teen driver, who fatally knocked down 2, arrested\n",
            "   Link: https://www.hindustantimes.com/india-news/pune-porsche-accident-grandfather-of-teen-driver-who-fatally-knocked-down-2-arrested-101716611769633.html\n",
            "\n",
            "2. Title: Pune Porsche Crash: Here’s what we know so far\n",
            "   Link: https://indianexpress.com/article/cities/pune/pune-porsche-crash-what-we-know-9346927/\n",
            "\n",
            "3. Title: Pune Porsche accident: 2 doctors arrested for manipulating teen driver's blood sample\n",
            "   Link: https://www.hindustantimes.com/india-news/pune-porsche-accident-2-doctors-arrested-for-manipulating-teen-drivers-blood-sample-101716779475628.html\n",
            "\n",
            "4. Title: Pune Porsche crash: I was drunk so…, What teen revealed during police interrogations\n",
            "   Link: https://www.livemint.com/news/india/pune-porsche-crash-i-was-drunk-so-what-teen-revealed-during-police-interrogations-11717292843051.html\n",
            "\n",
            "5. Title: \"If You Talk...\": What Porsche Teen's Grandfather Told Driver After Crash\n",
            "   Link: https://www.ndtv.com/india-news/pune-porsche-crash-if-you-talk-what-porsche-teens-grandfather-told-driver-after-crash-5741599\n",
            "\n"
          ]
        }
      ]
    },
    {
      "cell_type": "code",
      "source": [
        "# Example usage\n",
        "query = \"neet ug scam\"\n",
        "results = get_news_articles(query)\n",
        "\n",
        "if results:\n",
        "    for idx, article in enumerate(results, start=1):\n",
        "        print(f\"{idx}. Title: {article['title']}\\n   Link: {article['link']}\\n\")\n",
        "else:\n",
        "    print(\"No news articles found.\")"
      ],
      "metadata": {
        "id": "egZqIlyvP0cK",
        "colab": {
          "base_uri": "https://localhost:8080/"
        },
        "outputId": "0e402de6-ebfd-4641-c982-f6597f877af8"
      },
      "execution_count": null,
      "outputs": [
        {
          "output_type": "stream",
          "name": "stdout",
          "text": [
            "1. Title: NEET-UG result uproar: Big shake-up looms for NTA amid backlash over exam results\n",
            "   Link: https://m.economictimes.com/news/india/neet-ug-result-uproar-big-shake-up-looms-for-nta-amid-backlash-over-exam-results/articleshow/111073084.cms\n",
            "\n",
            "2. Title: NEET row: Paper leaked to 700 students from across the country, reveals key player in the scam\n",
            "   Link: https://www.businesstoday.in/india/story/neet-row-paper-leaked-to-700-students-from-across-the-country-reveals-key-player-in-the-scam-434573-2024-06-25\n",
            "\n",
            "3. Title: NEET paper leak: Bihar Dy CM Vijay Sinha says 'scam' linked to RJD's Tejashwi Yadav's aide\n",
            "   Link: https://m.economictimes.com/news/india/neet-paper-leak-bihar-dy-cm-vijay-sinha-says-scam-linked-to-rjds-tejashwi-yadavs-aide/articleshow/111133180.cms\n",
            "\n",
            "4. Title: Gujarat Police unearth NEET ‘scam’ at Godhra centre, arrest five\n",
            "   Link: https://www.thehindu.com/news/national/gujarat-police-unearths-neet-exam-scandal-in-godhra-centre/article68290666.ece\n",
            "\n",
            "5. Title: NEET-UG 2024 ’scam’: Supreme Court demands answers, issues notice on plea to cancel exams\n",
            "   Link: https://www.livemint.com/news/india/supreme-court-issues-notice-on-plea-to-cancel-neet-ug-2024-sanctity-affected-need-answers-neet-scam-11718085226388.html\n",
            "\n"
          ]
        }
      ]
    },
    {
      "cell_type": "code",
      "source": [
        "# Example usage\n",
        "query = \"cricket world cup india vs pakistan\"\n",
        "results = get_news_articles(query)\n",
        "\n",
        "if results:\n",
        "    for idx, article in enumerate(results, start=1):\n",
        "        print(f\"{idx}. Title: {article['title']}\\n   Link: {article['link']}\\n\")\n",
        "else:\n",
        "    print(\"No news articles found.\")"
      ],
      "metadata": {
        "colab": {
          "base_uri": "https://localhost:8080/"
        },
        "id": "ci5cwko3WmOM",
        "outputId": "d82f036b-005b-4516-ccac-3a9dd75d10d3"
      },
      "execution_count": null,
      "outputs": [
        {
          "output_type": "stream",
          "name": "stdout",
          "text": [
            "1. Title: Long Island officials address Cricket World Cup threat, say it will be the \"safest place to be on June 9\"\n",
            "   Link: https://www.cbsnews.com/newyork/news/watch-live-2024-cricket-world-cup-security-nassau-county-international-cricket-stadium/\n",
            "\n",
            "2. Title: Pakistani cricket fans open up about Cricket World Cup in N.Y.\n",
            "   Link: https://ny1.com/nyc/all-boroughs/news/2024/06/11/pakistani-cricket-fans-cricket-world-cup-in-new-york\n",
            "\n",
            "3. Title: Why India vs Pakistan at T20 World Cup in New York is this weekend’s biggest sporting event\n",
            "   Link: https://www.nytimes.com/athletic/5545496/2024/06/07/india-pakistan-cricket-world-cup-new-york-why/\n",
            "\n",
            "4. Title: Disturbing flier about Cricket World Cup prompts NYPD terror warning for Nassau County event\n",
            "   Link: https://abc7ny.com/post/terror-warning-disturbing-flier-cricket-world-cup-prompts/14886758/\n",
            "\n",
            "5. Title: Sport Weekly: India’s Cricket World Cup approaches its climax\n",
            "   Link: https://www.aljazeera.com/sports/2023/11/17/sport-weekly-icc-india-cricket-world-cup-2023-final-australia\n",
            "\n"
          ]
        }
      ]
    },
    {
      "cell_type": "code",
      "source": [],
      "metadata": {
        "id": "lMwchanqWyE-"
      },
      "execution_count": null,
      "outputs": []
    }
  ]
}